{
 "cells": [
  {
   "cell_type": "code",
   "execution_count": 7,
   "metadata": {},
   "outputs": [],
   "source": [
    "import json\n",
    "\n",
    "### BMR\n",
    "# Men: BMR = 88.362 + (13.397 x weight in kg) + (4.799 x height in cm) – (5.677 x age in years)\n",
    "# Women: BMR = 447.593 + (9.247 x weight in kg) + (3.098 x height in cm) – (4.330 x age in years)\n",
    "\n",
    "### TDEE (daily caloric intake)\n",
    "# Sedentary (little or no exercise): calories = BMR × 1.2;\n",
    "# Lightly active \n",
    "# (light exercise/sports 1-3 days/week): calories = BMR × 1.375;\n",
    "# Moderately active \n",
    "# (moderate exercise/sports 3-5 days/week): calories = BMR × 1.55;\n",
    "# Very active \n",
    "# (hard exercise/sports 6-7 days a week): calories = BMR × 1.725; and\n",
    "# Extremely active \n",
    "# (very hard exercise/sports & a physical job): calories = BMR × 1.9.\n",
    "\n",
    "user_data = {\n",
    "    \"name\": \"Le Anh Quan\",\n",
    "    \"age\": 22,\n",
    "    \"sex\": \"Male\",\n",
    "    \"weight\": 90,\n",
    "    \"height\": 179,\n",
    "    \"excercising_factor\": 1.375\n",
    "}\n",
    "\n",
    "json.dump(user_data, open(\"./test_user_data.json\", 'w'), indent=4)"
   ]
  },
  {
   "cell_type": "code",
   "execution_count": 1,
   "metadata": {},
   "outputs": [
    {
     "name": "stdout",
     "output_type": "stream",
     "text": [
      "Collecting gunicorn\n",
      "  Downloading gunicorn-20.1.0-py3-none-any.whl (79 kB)\n",
      "\u001b[K     |████████████████████████████████| 79 kB 197 kB/s eta 0:00:011\n",
      "\u001b[?25hRequirement already satisfied: setuptools>=3.0 in /home/lebugcat/miniconda3/lib/python3.9/site-packages (from gunicorn) (58.0.4)\n",
      "Installing collected packages: gunicorn\n",
      "Successfully installed gunicorn-20.1.0\n",
      "Note: you may need to restart the kernel to use updated packages.\n"
     ]
    }
   ],
   "source": [
    "import gunicorn"
   ]
  }
 ],
 "metadata": {
  "interpreter": {
   "hash": "e09f0cd6eebf9b28c35729c783900fbca89b3c58f11550a1202c685d85eb98d6"
  },
  "kernelspec": {
   "display_name": "Python 3.9.7 ('base')",
   "language": "python",
   "name": "python3"
  },
  "language_info": {
   "codemirror_mode": {
    "name": "ipython",
    "version": 3
   },
   "file_extension": ".py",
   "mimetype": "text/x-python",
   "name": "python",
   "nbconvert_exporter": "python",
   "pygments_lexer": "ipython3",
   "version": "3.9.7"
  },
  "orig_nbformat": 4
 },
 "nbformat": 4,
 "nbformat_minor": 2
}
